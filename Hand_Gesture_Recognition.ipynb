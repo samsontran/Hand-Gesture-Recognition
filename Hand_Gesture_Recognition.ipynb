{
  "cells": [
    {
      "cell_type": "markdown",
      "metadata": {
        "id": "view-in-github",
        "colab_type": "text"
      },
      "source": [
        "<a href=\"https://colab.research.google.com/github/samsontran/Hand-Gesture-Recognition/blob/main/Hand_Gesture_Recognition.ipynb\" target=\"_parent\"><img src=\"https://colab.research.google.com/assets/colab-badge.svg\" alt=\"Open In Colab\"/></a>"
      ]
    },
    {
      "cell_type": "markdown",
      "source": [
        "### American Sign Language\n",
        "\n",
        "American Sign Language (ASL) is a complete, complex language that employs signs made by moving the\n",
        "hands combined with facial expressions and postures of the body. It is the primary language of many\n",
        "North Americans who are deaf and is one of several communication options used by people who are deaf or\n",
        "hard-of-hearing.\n",
        "\n",
        "The hand gestures representing English alphabet are shown below. This lab focuses on classifying a subset\n",
        "of these hand gesture images using convolutional neural networks. Specifically, given an image of a hand\n",
        "showing one of the letters A-I, we want to detect which letter is being represented.\n",
        "\n",
        "![alt text](https://www.disabled-world.com/pics/1/asl-alphabet.jpg)\n",
        "\n",
        "In Part 1 of this project, I write build a Convolutional Neural Network from scratch to train a model to recognize American Sign Language alphabets from A to I. \n",
        "\n",
        "In Part 2, I apply transfer learning using the neural network component of  AlexNet network to compute the convolutional features and get pre-trained weights. As you will see, the test accuracy goes up to 93%!\n",
        "\n",
        "In Part 3, I take my own American Sign Language hand gesture photos and test it out in my model (spoiler: my model accurately predicts all of them!)\n",
        "\n",
        "Dataset source: I use a labelled training set that was made available from my graduate level course, MIE1517 Deep Learning. "
      ],
      "metadata": {
        "id": "BQs7OQxyJMvQ"
      }
    },
    {
      "cell_type": "markdown",
      "metadata": {
        "id": "MiDuQaAh56sT"
      },
      "source": [
        "### Part 0. Data Loading and Splitting "
      ]
    },
    {
      "cell_type": "code",
      "execution_count": null,
      "metadata": {
        "id": "e9zXkXPxAXup"
      },
      "outputs": [],
      "source": [
        "import torch\n",
        "import torchvision\n",
        "import torchvision.transforms as transforms\n",
        "import torch.nn as nn\n",
        "import torch.nn.functional as F\n",
        "import torch.optim as optim\n",
        "import numpy as np\n",
        "import math\n",
        "import matplotlib.pyplot as plt\n",
        "import os, shutil\n",
        "from tqdm import tqdm"
      ]
    },
    {
      "cell_type": "code",
      "execution_count": null,
      "metadata": {
        "colab": {
          "base_uri": "https://localhost:8080/"
        },
        "id": "YLLRwx1gEYuM",
        "outputId": "4de8b4a7-422d-4bb1-9e55-51561fa5aa71"
      },
      "outputs": [
        {
          "output_type": "stream",
          "name": "stdout",
          "text": [
            "Mounted at /content/gdrive\n"
          ]
        }
      ],
      "source": [
        "from google.colab import drive\n",
        "drive.mount('/content/gdrive')"
      ]
    },
    {
      "cell_type": "code",
      "execution_count": null,
      "metadata": {
        "id": "gFZSWu2lULT1"
      },
      "outputs": [],
      "source": [
        "main = '/content/gdrive/MyDrive/Gesture_Dataset/'\n",
        "\n",
        "#create main directory folders for test, val, and train\n",
        "testMain = \"/content/gdrive/MyDrive/Lab_2B/test\"\n",
        "valMain = \"/content/gdrive/MyDrive/Lab_2B/val\"\n",
        "trainMain = \"/content/gdrive/MyDrive/Lab_2B/train\"\n",
        "if not os.path.exists(testMain):\n",
        "    os.makedirs(testMain)\n",
        "if not os.path.exists(valMain):\n",
        "    os.makedirs(valMain)\n",
        "if not os.path.exists(trainMain):\n",
        "    os.makedirs(trainMain)"
      ]
    },
    {
      "cell_type": "code",
      "execution_count": null,
      "metadata": {
        "id": "3ryTBCsEUQbx"
      },
      "outputs": [],
      "source": [
        "#for each class, create a subfolder in the 'train' main directory folder\n",
        "#split the data into 64% training, 16% validation, 20% testing\n",
        "\n",
        "for subclass in os.listdir(main):\n",
        "  subfolder = os.path.join(main, str(subclass))\n",
        "  files_in_subfolder = sorted(os.listdir(subfolder))\n",
        "\n",
        "  trainSub = os.path.join(trainMain, subclass)\n",
        "  if not os.path.exists(trainSub):\n",
        "    os.makedirs(trainSub)\n",
        "\n",
        "  for file in files_in_subfolder[:math.floor(len(files_in_subfolder)*0.8*0.8)]:\n",
        "    shutil.copy(subfolder + '/' + file, trainSub + '/' + file)\n",
        "\n",
        "  #repeat similar process for the validation (add the next 16% of photos in each class to the validation set)\n",
        "  valSub = os.path.join(valMain, subclass)\n",
        "  if not os.path.exists(valSub):\n",
        "    os.makedirs(valSub)\n",
        "\n",
        "  for file in files_in_subfolder[math.floor(len(files_in_subfolder)*0.8*0.8):math.floor(len(files_in_subfolder)*0.8)]:\n",
        "    shutil.copy(subfolder + '/' + file, valSub + '/' + file)\n",
        "\n",
        "  #repeat similar process for the test (add last 20% of photos into the testing set) \n",
        "  testSub = os.path.join(testMain, subclass)\n",
        "  if not os.path.exists(testSub):\n",
        "    os.makedirs(testSub)\n",
        "\n",
        "  for file in files_in_subfolder[math.floor(len(files_in_subfolder)*0.8):]:\n",
        "    shutil.copy(subfolder + '/' + file, testSub + '/' + file)"
      ]
    },
    {
      "cell_type": "code",
      "execution_count": null,
      "metadata": {
        "id": "l4S7NZnwElf9"
      },
      "outputs": [],
      "source": [
        "# define transform \n",
        "transform = transforms.Compose([\n",
        "    transforms.ToTensor(),\n",
        "    transforms.Resize([224, 224]), #ensure all photos will be 224x224\n",
        "    transforms.CenterCrop(224), #assume photos have hand centered\n",
        "    transforms.Normalize([0.5, 0.5, 0.5], [0.5, 0.5, 0.5])]) #normalize with mean and std values of 0.5\n",
        "\n",
        "# construct and transform the training, validation, and testing datasets separately \n",
        "train_dataset = torchvision.datasets.ImageFolder('/content/gdrive/MyDrive/Lab_2B/train',\n",
        "                                           transform=transform)\n",
        "val_dataset = torchvision.datasets.ImageFolder('/content/gdrive/MyDrive/Lab_2B/val',\n",
        "                                           transform=transform)\n",
        "test_dataset = torchvision.datasets.ImageFolder('/content/gdrive/MyDrive/Lab_2B/test',\n",
        "                                           transform=transform)"
      ]
    },
    {
      "cell_type": "markdown",
      "source": [
        "Visualize the data..."
      ],
      "metadata": {
        "id": "Spekc4nMWEve"
      }
    },
    {
      "cell_type": "code",
      "source": [
        "train_loader = torch.utils.data.DataLoader(train_dataset, batch_size=4, shuffle = True)\n",
        "\n",
        "k = 0\n",
        "for images, labels in train_loader:\n",
        "    image = images[0]\n",
        "\n",
        "    image = images[0]\n",
        "    img = np.transpose(image, [1,2,0])\n",
        "    img = img / 2 + 0.5\n",
        "\n",
        "    plt.subplot(3, 5, k+1)\n",
        "    plt.axis('off')\n",
        "    plt.imshow(img.numpy())\n",
        "\n",
        "    k += 1\n",
        "    if k > 9:\n",
        "        break"
      ],
      "metadata": {
        "colab": {
          "base_uri": "https://localhost:8080/",
          "height": 186
        },
        "id": "ZZQ6kycuWG1L",
        "outputId": "b5d79e42-b0f2-472d-ae8f-427fc37e2b6c"
      },
      "execution_count": null,
      "outputs": [
        {
          "output_type": "display_data",
          "data": {
            "image/png": "[encoded data removed]",
            "text/plain": [
              "<Figure size 432x288 with 10 Axes>"
            ]
          },
          "metadata": {
            "needs_background": "light"
          }
        }
      ]
    },
    {
      "cell_type": "markdown",
      "source": [
        "###Part 1: Building & training a CNN model"
      ],
      "metadata": {
        "id": "zPD3RwcCJ8ae"
      }
    },
    {
      "cell_type": "markdown",
      "source": [
        "I'll define a model as follows:"
      ],
      "metadata": {
        "id": "sqIdombjKJRF"
      }
    },
    {
      "cell_type": "code",
      "execution_count": null,
      "metadata": {
        "id": "2dtx1z5951fS"
      },
      "outputs": [],
      "source": [
        "class Classifier(nn.Module):\n",
        "  def __init__(self):\n",
        "    super(Classifier, self).__init__()\n",
        "    self.conv1 = nn.Conv2d(3, 3, 5)\n",
        "    self.pool = nn.MaxPool2d(5, 5)\n",
        "    self.conv2 = nn.Conv2d(3, 3, 5)\n",
        "    self.fc1 = nn.Linear(192, 32)\n",
        "    self.fc2 = nn.Linear(32,9)\n",
        "\n",
        "  def forward(self, x):\n",
        "    x = self.pool(F.relu((self.conv1(x))))\n",
        "    x = self.pool(F.relu((self.conv2(x))))\n",
        "    x = x.view(-1, 192)\n",
        "    x = F.relu(self.fc1(x))\n",
        "    x = self.fc2(x)\n",
        "    x = x.squeeze(1)\n",
        "\n",
        "    return x"
      ]
    },
    {
      "cell_type": "markdown",
      "metadata": {
        "id": "XeGvelvb515e"
      },
      "source": [
        "Now, train the model"
      ]
    },
    {
      "cell_type": "code",
      "source": [
        "def train(model, training_data, val_data, batch_size = 128, learning_rate = 0.01, num_epochs = 20, sanity_check = False):\n",
        "\n",
        "  train_loader = torch.utils.data.DataLoader(dataset=training_data, shuffle = True, batch_size=batch_size)\n",
        "\n",
        "  #define criterion & optimizer\n",
        "  criterion = nn.CrossEntropyLoss()\n",
        "  optimizer = optim.Adam(model.parameters(), lr = learning_rate)\n",
        "  \n",
        "  train_losses_list=[]\n",
        "  train_accu_list=[]\n",
        "\n",
        "  eval_losses_list=[]\n",
        "  eval_accu_list=[]\n",
        "\n",
        "  for epoch in range(1,num_epochs+1): \n",
        "      print('\\nEpoch : %d'%epoch)\n",
        "\n",
        "      running_loss=0\n",
        "      incorrect=0\n",
        "      total=0\n",
        "\n",
        "      eval_running_loss=0\n",
        "      eval_incorrect=0\n",
        "      eval_total=0\n",
        "\n",
        "      for data in tqdm(train_loader):\n",
        "        \n",
        "            inputs,labels=data\n",
        "\n",
        "            #############################################\n",
        "            #To Enable GPU Usage\n",
        "            if use_cuda and torch.cuda.is_available():\n",
        "              inputs = inputs.cuda()\n",
        "              labels = labels.cuda()\n",
        "            #############################################\n",
        "            \n",
        "            outputs=model(inputs)\n",
        "            loss=criterion(outputs,labels)\n",
        "            loss.backward()  \n",
        "            optimizer.step()              \n",
        "            optimizer.zero_grad()\n",
        "\n",
        "            running_loss += loss.item()\n",
        "            \n",
        "            _, predicted = outputs.max(1)\n",
        "            total += labels.size(0)\n",
        "            incorrect += predicted.ne(labels).sum().item()\n",
        "\n",
        "          \n",
        "      train_loss=running_loss/len(train_loader)\n",
        "      train_accu=100.*incorrect/total\n",
        "      \n",
        "      train_accu_list.append(train_accu)\n",
        "      train_losses_list.append(train_loss)\n",
        "      print('Train Loss: %.3f | Error: %.3f'%(train_loss,train_accu))\n",
        "\n",
        "      if sanity_check == False:\n",
        "            testloader = torch.utils.data.DataLoader(dataset=val_data, shuffle = True, batch_size=batch_size)\n",
        "\n",
        "            for data in tqdm(testloader):\n",
        "                inputs,labels=data\n",
        "\n",
        "                #############################################\n",
        "                #To Enable GPU Usage\n",
        "                if use_cuda and torch.cuda.is_available():\n",
        "                  inputs = inputs.cuda()\n",
        "                  labels = labels.cuda()\n",
        "                #############################################\n",
        "\n",
        "                outputs=model(inputs)\n",
        "\n",
        "                loss= criterion(outputs,labels)\n",
        "                eval_running_loss+=loss.item()\n",
        "\n",
        "                _, predicted = outputs.max(1)\n",
        "                eval_total += labels.size(0)\n",
        "                eval_incorrect += predicted.ne(labels).sum().item()\n",
        "\n",
        "            test_loss=eval_running_loss/len(testloader)\n",
        "            eval_accu=100.*eval_incorrect/eval_total\n",
        "\n",
        "            eval_losses_list.append(test_loss)\n",
        "            eval_accu_list.append(eval_accu)\n",
        "\n",
        "            print('Val Loss: %.3f | Error: %.3f'%(test_loss,eval_accu))\n",
        "\n",
        "  return train_losses_list, train_accu_list, eval_losses_list, eval_accu_list"
      ],
      "metadata": {
        "id": "4iu-TXF4Q-0_"
      },
      "execution_count": null,
      "outputs": []
    },
    {
      "cell_type": "code",
      "execution_count": null,
      "metadata": {
        "id": "BNwl8novd9nj"
      },
      "outputs": [],
      "source": [
        "def plot_training_curve(train_loss, train_err, val_loss, val_err):\n",
        "\n",
        "    plt.plot(train_err)\n",
        "    plt.plot(val_err)\n",
        "    plt.xlabel('epoch')\n",
        "    plt.ylabel('Error')\n",
        "    plt.legend(['Train','Valid'])\n",
        "    plt.title('Train vs Valid Error')\n",
        "\n",
        "    plt.show()\n",
        "\n",
        "    plt.plot(train_loss)\n",
        "    plt.plot(val_loss)\n",
        "    plt.xlabel('epoch')\n",
        "    plt.ylabel('losses')\n",
        "    plt.legend(['Train','Valid'])\n",
        "    plt.title('Train vs Validation Losses')\n",
        "\n",
        "    plt.show()"
      ]
    },
    {
      "cell_type": "code",
      "execution_count": null,
      "metadata": {
        "id": "3krlMg01VJWC",
        "colab": {
          "base_uri": "https://localhost:8080/",
          "height": 1000
        },
        "outputId": "b1598d7e-d7a6-4386-ffef-8f6f2a5df00a"
      },
      "outputs": [
        {
          "output_type": "stream",
          "name": "stdout",
          "text": [
            "\n",
            "Epoch : 1\n"
          ]
        },
        {
          "output_type": "stream",
          "name": "stderr",
          "text": [
            "100%|██████████| 13/13 [00:10<00:00,  1.23it/s]\n"
          ]
        },
        {
          "output_type": "stream",
          "name": "stdout",
          "text": [
            "Train Loss: 1.966 | Error: 72.018\n"
          ]
        },
        {
          "output_type": "stream",
          "name": "stderr",
          "text": [
            "100%|██████████| 4/4 [00:02<00:00,  1.60it/s]\n"
          ]
        },
        {
          "output_type": "stream",
          "name": "stdout",
          "text": [
            "Val Loss: 1.421 | Error: 47.692\n",
            "\n",
            "Epoch : 2\n"
          ]
        },
        {
          "output_type": "stream",
          "name": "stderr",
          "text": [
            "100%|██████████| 13/13 [00:10<00:00,  1.21it/s]\n"
          ]
        },
        {
          "output_type": "stream",
          "name": "stdout",
          "text": [
            "Train Loss: 1.384 | Error: 45.197\n"
          ]
        },
        {
          "output_type": "stream",
          "name": "stderr",
          "text": [
            "100%|██████████| 4/4 [00:02<00:00,  1.59it/s]\n"
          ]
        },
        {
          "output_type": "stream",
          "name": "stdout",
          "text": [
            "Val Loss: 1.272 | Error: 43.590\n",
            "\n",
            "Epoch : 3\n"
          ]
        },
        {
          "output_type": "stream",
          "name": "stderr",
          "text": [
            "100%|██████████| 13/13 [00:10<00:00,  1.21it/s]\n"
          ]
        },
        {
          "output_type": "stream",
          "name": "stdout",
          "text": [
            "Train Loss: 1.159 | Error: 38.169\n"
          ]
        },
        {
          "output_type": "stream",
          "name": "stderr",
          "text": [
            "100%|██████████| 4/4 [00:02<00:00,  1.61it/s]\n"
          ]
        },
        {
          "output_type": "stream",
          "name": "stdout",
          "text": [
            "Val Loss: 0.857 | Error: 33.077\n",
            "\n",
            "Epoch : 4\n"
          ]
        },
        {
          "output_type": "stream",
          "name": "stderr",
          "text": [
            "100%|██████████| 13/13 [00:10<00:00,  1.22it/s]\n"
          ]
        },
        {
          "output_type": "stream",
          "name": "stdout",
          "text": [
            "Train Loss: 1.000 | Error: 32.753\n"
          ]
        },
        {
          "output_type": "stream",
          "name": "stderr",
          "text": [
            "100%|██████████| 4/4 [00:02<00:00,  1.59it/s]\n"
          ]
        },
        {
          "output_type": "stream",
          "name": "stdout",
          "text": [
            "Val Loss: 0.879 | Error: 33.077\n",
            "\n",
            "Epoch : 5\n"
          ]
        },
        {
          "output_type": "stream",
          "name": "stderr",
          "text": [
            "100%|██████████| 13/13 [00:10<00:00,  1.24it/s]\n"
          ]
        },
        {
          "output_type": "stream",
          "name": "stdout",
          "text": [
            "Train Loss: 0.856 | Error: 27.724\n"
          ]
        },
        {
          "output_type": "stream",
          "name": "stderr",
          "text": [
            "100%|██████████| 4/4 [00:02<00:00,  1.61it/s]\n"
          ]
        },
        {
          "output_type": "stream",
          "name": "stdout",
          "text": [
            "Val Loss: 0.903 | Error: 35.897\n",
            "\n",
            "Epoch : 6\n"
          ]
        },
        {
          "output_type": "stream",
          "name": "stderr",
          "text": [
            "100%|██████████| 13/13 [00:10<00:00,  1.23it/s]\n"
          ]
        },
        {
          "output_type": "stream",
          "name": "stdout",
          "text": [
            "Train Loss: 0.830 | Error: 25.661\n"
          ]
        },
        {
          "output_type": "stream",
          "name": "stderr",
          "text": [
            "100%|██████████| 4/4 [00:02<00:00,  1.60it/s]\n"
          ]
        },
        {
          "output_type": "stream",
          "name": "stdout",
          "text": [
            "Val Loss: 0.997 | Error: 31.795\n",
            "\n",
            "Epoch : 7\n"
          ]
        },
        {
          "output_type": "stream",
          "name": "stderr",
          "text": [
            "100%|██████████| 13/13 [00:10<00:00,  1.23it/s]\n"
          ]
        },
        {
          "output_type": "stream",
          "name": "stdout",
          "text": [
            "Train Loss: 0.787 | Error: 26.048\n"
          ]
        },
        {
          "output_type": "stream",
          "name": "stderr",
          "text": [
            "100%|██████████| 4/4 [00:02<00:00,  1.57it/s]\n"
          ]
        },
        {
          "output_type": "stream",
          "name": "stdout",
          "text": [
            "Val Loss: 0.988 | Error: 31.795\n",
            "\n",
            "Epoch : 8\n"
          ]
        },
        {
          "output_type": "stream",
          "name": "stderr",
          "text": [
            "100%|██████████| 13/13 [00:10<00:00,  1.23it/s]\n"
          ]
        },
        {
          "output_type": "stream",
          "name": "stdout",
          "text": [
            "Train Loss: 0.686 | Error: 22.244\n"
          ]
        },
        {
          "output_type": "stream",
          "name": "stderr",
          "text": [
            "100%|██████████| 4/4 [00:02<00:00,  1.60it/s]\n"
          ]
        },
        {
          "output_type": "stream",
          "name": "stdout",
          "text": [
            "Val Loss: 0.889 | Error: 34.103\n",
            "\n",
            "Epoch : 9\n"
          ]
        },
        {
          "output_type": "stream",
          "name": "stderr",
          "text": [
            "100%|██████████| 13/13 [00:10<00:00,  1.21it/s]\n"
          ]
        },
        {
          "output_type": "stream",
          "name": "stdout",
          "text": [
            "Train Loss: 0.617 | Error: 19.536\n"
          ]
        },
        {
          "output_type": "stream",
          "name": "stderr",
          "text": [
            "100%|██████████| 4/4 [00:02<00:00,  1.57it/s]\n"
          ]
        },
        {
          "output_type": "stream",
          "name": "stdout",
          "text": [
            "Val Loss: 1.186 | Error: 29.487\n",
            "\n",
            "Epoch : 10\n"
          ]
        },
        {
          "output_type": "stream",
          "name": "stderr",
          "text": [
            "100%|██████████| 13/13 [00:10<00:00,  1.21it/s]\n"
          ]
        },
        {
          "output_type": "stream",
          "name": "stdout",
          "text": [
            "Train Loss: 0.584 | Error: 19.278\n"
          ]
        },
        {
          "output_type": "stream",
          "name": "stderr",
          "text": [
            "100%|██████████| 4/4 [00:02<00:00,  1.63it/s]\n"
          ]
        },
        {
          "output_type": "stream",
          "name": "stdout",
          "text": [
            "Val Loss: 1.124 | Error: 31.538\n",
            "\n",
            "Epoch : 11\n"
          ]
        },
        {
          "output_type": "stream",
          "name": "stderr",
          "text": [
            "100%|██████████| 13/13 [00:10<00:00,  1.23it/s]\n"
          ]
        },
        {
          "output_type": "stream",
          "name": "stdout",
          "text": [
            "Train Loss: 0.591 | Error: 20.245\n"
          ]
        },
        {
          "output_type": "stream",
          "name": "stderr",
          "text": [
            "100%|██████████| 4/4 [00:02<00:00,  1.58it/s]\n"
          ]
        },
        {
          "output_type": "stream",
          "name": "stdout",
          "text": [
            "Val Loss: 1.076 | Error: 27.179\n",
            "\n",
            "Epoch : 12\n"
          ]
        },
        {
          "output_type": "stream",
          "name": "stderr",
          "text": [
            "100%|██████████| 13/13 [00:10<00:00,  1.23it/s]\n"
          ]
        },
        {
          "output_type": "stream",
          "name": "stdout",
          "text": [
            "Train Loss: 0.558 | Error: 18.246\n"
          ]
        },
        {
          "output_type": "stream",
          "name": "stderr",
          "text": [
            "100%|██████████| 4/4 [00:02<00:00,  1.61it/s]\n"
          ]
        },
        {
          "output_type": "stream",
          "name": "stdout",
          "text": [
            "Val Loss: 1.198 | Error: 34.103\n",
            "\n",
            "Epoch : 13\n"
          ]
        },
        {
          "output_type": "stream",
          "name": "stderr",
          "text": [
            "100%|██████████| 13/13 [00:10<00:00,  1.20it/s]\n"
          ]
        },
        {
          "output_type": "stream",
          "name": "stdout",
          "text": [
            "Train Loss: 0.559 | Error: 17.859\n"
          ]
        },
        {
          "output_type": "stream",
          "name": "stderr",
          "text": [
            "100%|██████████| 4/4 [00:02<00:00,  1.60it/s]\n"
          ]
        },
        {
          "output_type": "stream",
          "name": "stdout",
          "text": [
            "Val Loss: 0.895 | Error: 26.923\n",
            "\n",
            "Epoch : 14\n"
          ]
        },
        {
          "output_type": "stream",
          "name": "stderr",
          "text": [
            "100%|██████████| 13/13 [00:10<00:00,  1.21it/s]\n"
          ]
        },
        {
          "output_type": "stream",
          "name": "stdout",
          "text": [
            "Train Loss: 0.435 | Error: 13.540\n"
          ]
        },
        {
          "output_type": "stream",
          "name": "stderr",
          "text": [
            "100%|██████████| 4/4 [00:02<00:00,  1.60it/s]\n"
          ]
        },
        {
          "output_type": "stream",
          "name": "stdout",
          "text": [
            "Val Loss: 1.055 | Error: 26.410\n",
            "\n",
            "Epoch : 15\n"
          ]
        },
        {
          "output_type": "stream",
          "name": "stderr",
          "text": [
            "100%|██████████| 13/13 [00:10<00:00,  1.22it/s]\n"
          ]
        },
        {
          "output_type": "stream",
          "name": "stdout",
          "text": [
            "Train Loss: 0.380 | Error: 11.928\n"
          ]
        },
        {
          "output_type": "stream",
          "name": "stderr",
          "text": [
            "100%|██████████| 4/4 [00:02<00:00,  1.56it/s]\n"
          ]
        },
        {
          "output_type": "stream",
          "name": "stdout",
          "text": [
            "Val Loss: 1.078 | Error: 22.308\n",
            "\n",
            "Epoch : 16\n"
          ]
        },
        {
          "output_type": "stream",
          "name": "stderr",
          "text": [
            "100%|██████████| 13/13 [00:10<00:00,  1.20it/s]\n"
          ]
        },
        {
          "output_type": "stream",
          "name": "stdout",
          "text": [
            "Train Loss: 0.352 | Error: 11.219\n"
          ]
        },
        {
          "output_type": "stream",
          "name": "stderr",
          "text": [
            "100%|██████████| 4/4 [00:02<00:00,  1.54it/s]\n"
          ]
        },
        {
          "output_type": "stream",
          "name": "stdout",
          "text": [
            "Val Loss: 0.857 | Error: 24.103\n"
          ]
        },
        {
          "output_type": "display_data",
          "data": {
            "image/png": "[encoded data removed]",
            "text/plain": [
              "<Figure size 432x288 with 1 Axes>"
            ]
          },
          "metadata": {
            "needs_background": "light"
          }
        },
        {
          "output_type": "display_data",
          "data": {
            "image/png": "[encoded data removed]",
            "text/plain": [
              "<Figure size 432x288 with 1 Axes>"
            ]
          },
          "metadata": {
            "needs_background": "light"
          }
        },
        {
          "output_type": "stream",
          "name": "stdout",
          "text": [
            "Lowest Validation Error: 22.307692307692307, at Epoch 15\n",
            "Lowest Validation Loss: 0.8565678894519806, at Epoch 15\n"
          ]
        }
      ],
      "source": [
        "use_cuda = True\n",
        "\n",
        "model = Classifier()\n",
        "\n",
        "if use_cuda and torch.cuda.is_available():\n",
        "  model3.cuda()\n",
        "\n",
        "train_loss, train_err, val_loss, val_err = train(model3, train_dataset, val_dataset, learning_rate = 0.005, num_epochs=16)\n",
        "\n",
        "plot_training_curve(train_loss, train_err, val_loss, val_err)\n",
        "\n",
        "print(\"Lowest Validation Error: {}, at Epoch {}\".format(min(val_err), np.argmin(val_err) + 1))\n",
        "print(\"Lowest Validation Loss: {}, at Epoch {}\".format(min(val_loss), np.argmin(val_err) + 1))"
      ]
    },
    {
      "cell_type": "markdown",
      "source": [
        "Reporting test accuracy on test set:"
      ],
      "metadata": {
        "id": "sxOxxh8rKglJ"
      }
    },
    {
      "cell_type": "code",
      "execution_count": null,
      "metadata": {
        "id": "2eJ7AbVl6-ax",
        "colab": {
          "base_uri": "https://localhost:8080/"
        },
        "outputId": "a569577e-ef34-4310-f461-6d5f5c6c521e"
      },
      "outputs": [
        {
          "output_type": "stream",
          "name": "stderr",
          "text": [
            "100%|██████████| 4/4 [00:03<00:00,  1.25it/s]"
          ]
        },
        {
          "output_type": "stream",
          "name": "stdout",
          "text": [
            "Val Error: 24.898\n"
          ]
        },
        {
          "output_type": "stream",
          "name": "stderr",
          "text": [
            "\n"
          ]
        }
      ],
      "source": [
        "criterion = nn.CrossEntropyLoss()\n",
        "\n",
        "eval_total = 0\n",
        "eval_incorrect = 0\n",
        "\n",
        "eval_accu_list = []\n",
        "\n",
        "testloader = torch.utils.data.DataLoader(dataset=test_dataset, shuffle = True, batch_size=128)\n",
        "\n",
        "for data in tqdm(testloader):\n",
        "    inputs,labels=data\n",
        "\n",
        "    #############################################\n",
        "    #To Enable GPU Usage\n",
        "    if use_cuda and torch.cuda.is_available():\n",
        "      inputs = inputs.cuda()\n",
        "      labels = labels.cuda()\n",
        "    #############################################\n",
        "\n",
        "    outputs=model3(inputs)\n",
        "\n",
        "    loss= criterion(outputs,labels)\n",
        "\n",
        "    _, predicted = outputs.max(1)\n",
        "    eval_total += labels.size(0)\n",
        "    eval_incorrect += predicted.ne(labels).sum().item()\n",
        "\n",
        "eval_accu=100.*eval_incorrect/eval_total\n",
        "\n",
        "eval_accu_list.append(eval_accu)\n",
        "\n",
        "print('Val Error: %.3f'%(eval_accu))"
      ]
    },
    {
      "cell_type": "code",
      "source": [
        "print(\"Test accuracy is: \", 100 - eval_accu)"
      ],
      "metadata": {
        "colab": {
          "base_uri": "https://localhost:8080/"
        },
        "id": "oXSJMZ42h606",
        "outputId": "4f68c436-e4c2-499d-93d6-93db77d675b4"
      },
      "execution_count": null,
      "outputs": [
        {
          "output_type": "stream",
          "name": "stdout",
          "text": [
            "Test accuracy is:  75.10204081632654\n"
          ]
        }
      ]
    },
    {
      "cell_type": "markdown",
      "metadata": {
        "id": "Wrem-iXV6_Bz"
      },
      "source": [
        "### Part 2. Transfer Learning with AlexNet"
      ]
    },
    {
      "cell_type": "code",
      "execution_count": null,
      "metadata": {
        "id": "BJKcTW9C7TZk",
        "colab": {
          "base_uri": "https://localhost:8080/",
          "height": 86,
          "referenced_widgets": [
            "2290e8729a5141a184e8e7c30a91c280",
            "44e527139f2e45728ca2325efc8a9a98",
            "692ca0c693f74afc8a499c40e4114649",
            "3570bedf043f4c71a842090d0732cc80",
            "72fe7a73f5cf4ea39ab235e38fcc54b2",
            "4bf45ff8f1434566be94ee949c52dbba",
            "8cb2261263004324a823caa173f19bb8",
            "4dbc42927693462492d3407e0aae16c9",
            "98775ed835b94838a21cae7b93aaca18",
            "942493dd633d4c71a28d4abee492bc6d",
            "30317d315ede4174ac918ddbd6327032"
          ]
        },
        "outputId": "7b68a0b9-12c0-4f65-ce31-dcb13ca6d18a"
      },
      "outputs": [
        {
          "output_type": "stream",
          "name": "stderr",
          "text": [
            "Downloading: \"https://download.pytorch.org/models/alexnet-owt-7be5be79.pth\" to /root/.cache/torch/hub/checkpoints/alexnet-owt-7be5be79.pth\n"
          ]
        },
        {
          "output_type": "display_data",
          "data": {
            "application/vnd.jupyter.widget-view+json": {
              "model_id": "2290e8729a5141a184e8e7c30a91c280",
              "version_minor": 0,
              "version_major": 2
            },
            "text/plain": [
              "  0%|          | 0.00/233M [00:00<?, ?B/s]"
            ]
          },
          "metadata": {}
        }
      ],
      "source": [
        "import torchvision.models\n",
        "alexNet = torchvision.models.alexnet(pretrained=True)"
      ]
    },
    {
      "cell_type": "code",
      "source": [
        "#Computing the AlexNet features for each of the training, validation, and test data\n",
        "\n",
        "train_loader = torch.utils.data.DataLoader(train_dataset, batch_size=128)\n",
        "val_loader = torch.utils.data.DataLoader(val_dataset, batch_size=128)\n",
        "test_loader = torch.utils.data.DataLoader(test_dataset, batch_size=128)\n",
        "\n",
        "train_features = torch.FloatTensor([])\n",
        "train_labels = torch.FloatTensor([])\n",
        "for images, labels in iter(train_loader):\n",
        "  train_features = torch.cat((train_features, alexNet.features(images)), 0)\n",
        "  train_labels = torch.cat((train_labels, labels), 0)\n",
        "\n",
        "val_features = torch.FloatTensor([])\n",
        "val_labels = torch.FloatTensor([])\n",
        "for images, labels in iter(val_loader):\n",
        "  val_features = torch.cat((val_features, alexNet.features(images)), 0)\n",
        "  val_labels = torch.cat((val_labels, labels), 0)\n",
        "\n",
        "test_features = torch.FloatTensor([])\n",
        "test_labels = torch.FloatTensor([])\n",
        "for images, labels in iter(test_loader):\n",
        "  test_features = torch.cat((test_features, alexNet.features(images)), 0)\n",
        "  test_labels = torch.cat((test_labels, labels), 0)"
      ],
      "metadata": {
        "id": "ugM0L0o0FgSY"
      },
      "execution_count": null,
      "outputs": []
    },
    {
      "cell_type": "code",
      "source": [
        "#saving the features to my drive\n",
        "\n",
        "path = F\"/content/gdrive/My Drive/lab_2_features/\" \n",
        "\n",
        "if not os.path.exists(path):\n",
        "    os.makedirs(path)\n",
        "\n",
        "torch.save(train_features, path + 'train_features.pt')\n",
        "torch.save(val_features, path + 'val_features.pt')\n",
        "torch.save(test_features, path + 'test_features.pt')\n",
        "\n",
        "torch.save(train_labels, path + 'train_labels.pt')\n",
        "torch.save(val_labels, path + 'val_labels.pt')\n",
        "torch.save(test_labels, path + 'test_labels.pt')"
      ],
      "metadata": {
        "id": "qSNtD2EFMqSn"
      },
      "execution_count": null,
      "outputs": []
    },
    {
      "cell_type": "code",
      "source": [
        "#loading the features from my drive\n",
        "\n",
        "path = F\"/content/gdrive/My Drive/lab_2_features/\" \n",
        "\n",
        "train_features = torch.load(path + 'train_features.pt')\n",
        "val_features = torch.load(path + 'val_features.pt')\n",
        "test_features = torch.load(path + 'test_features.pt')\n",
        "\n",
        "train_labels = torch.load(path + 'train_labels.pt')\n",
        "val_labels = torch.load(path + 'val_labels.pt')\n",
        "test_labels = torch.load(path + 'test_labels.pt')"
      ],
      "metadata": {
        "id": "62oBZ0NAUEk0"
      },
      "execution_count": null,
      "outputs": []
    },
    {
      "cell_type": "code",
      "source": [
        "#because the AlexNet feature computation split the features and labels apart, I'll need to combine features and label data into one matrix back again\n",
        "\n",
        "train_featlabels = []\n",
        "val_featlabels = []\n",
        "test_featlabels = []\n",
        "\n",
        "for i in range(len(train_features)):\n",
        "  train_featlabels.append([train_features[i], train_labels[i].type(torch.LongTensor)])\n",
        "\n",
        "for i in range(len(val_features)):\n",
        "  val_featlabels.append([val_features[i], val_labels[i].type(torch.LongTensor)])\n",
        "\n",
        "for i in range(len(test_features)):\n",
        "  test_featlabels.append([test_features[i], test_labels[i].type(torch.LongTensor)])  \n"
      ],
      "metadata": {
        "id": "MbkdlJ8lOnDO"
      },
      "execution_count": null,
      "outputs": []
    },
    {
      "cell_type": "code",
      "source": [
        "class AlexNetClassifier(nn.Module):\n",
        "  def __init__(self):\n",
        "    super(AlexNetClassifier, self).__init__()\n",
        "    self.conv1 = nn.Conv2d(256, 128, 2)\n",
        "    self.pool = nn.MaxPool2d(2, 2)\n",
        "    self.fc1 = nn.Linear(128*2*2, 32)\n",
        "    self.fc2 = nn.Linear(32,9)\n",
        "    \n",
        "  def forward(self, features):\n",
        "    x = self.pool(F.relu((self.conv1(features))))\n",
        "    x = x.view(-1, 128*2*2)\n",
        "    x = F.relu(self.fc1(x))\n",
        "    x = self.fc2(x)\n",
        "    x = x.squeeze(1)\n",
        "\n",
        "    return x"
      ],
      "metadata": {
        "id": "sfZqmPM0S9Sk"
      },
      "execution_count": null,
      "outputs": []
    },
    {
      "cell_type": "markdown",
      "source": [
        "Training this AlexNet model:"
      ],
      "metadata": {
        "id": "32mj5kcFK_iK"
      }
    },
    {
      "cell_type": "code",
      "source": [
        "use_cuda = True\n",
        "\n",
        "model = NewClassifier()\n",
        "\n",
        "if use_cuda and torch.cuda.is_available():\n",
        "  model.cuda()\n",
        "\n",
        "train_loss, train_err, val_loss, val_err = train(model, train_featlabels, val_featlabels, learning_rate = 0.0025)\n",
        "\n",
        "plot_training_curve(train_loss, train_err, val_loss, val_err)\n",
        "\n",
        "print(\"Lowest Validation Error: {}, at Epoch {}\".format(min(val_err), np.argmin(val_err) + 1))\n",
        "print(\"Lowest Validation Loss: {}, at Epoch {}\".format(min(val_loss), np.argmin(val_err) + 1))"
      ],
      "metadata": {
        "colab": {
          "base_uri": "https://localhost:8080/",
          "height": 1000
        },
        "id": "xcK0IQYiikFd",
        "outputId": "570b79d1-fe62-467b-cdca-68288acb0c8e"
      },
      "execution_count": null,
      "outputs": [
        {
          "output_type": "stream",
          "name": "stdout",
          "text": [
            "\n",
            "Epoch : 1\n"
          ]
        },
        {
          "output_type": "stream",
          "name": "stderr",
          "text": [
            "100%|██████████| 13/13 [00:49<00:00,  3.84s/it]\n"
          ]
        },
        {
          "output_type": "stream",
          "name": "stdout",
          "text": [
            "Train Loss: 1.390 | Error: 48.162\n"
          ]
        },
        {
          "output_type": "stream",
          "name": "stderr",
          "text": [
            "100%|██████████| 4/4 [00:00<00:00, 41.01it/s]\n"
          ]
        },
        {
          "output_type": "stream",
          "name": "stdout",
          "text": [
            "Val Loss: 0.591 | Error: 23.590\n",
            "\n",
            "Epoch : 2\n"
          ]
        },
        {
          "output_type": "stream",
          "name": "stderr",
          "text": [
            "100%|██████████| 13/13 [00:49<00:00,  3.84s/it]\n"
          ]
        },
        {
          "output_type": "stream",
          "name": "stdout",
          "text": [
            "Train Loss: 0.502 | Error: 16.505\n"
          ]
        },
        {
          "output_type": "stream",
          "name": "stderr",
          "text": [
            "100%|██████████| 4/4 [00:00<00:00, 42.35it/s]\n"
          ]
        },
        {
          "output_type": "stream",
          "name": "stdout",
          "text": [
            "Val Loss: 0.461 | Error: 15.385\n",
            "\n",
            "Epoch : 3\n"
          ]
        },
        {
          "output_type": "stream",
          "name": "stderr",
          "text": [
            "100%|██████████| 13/13 [00:49<00:00,  3.83s/it]\n"
          ]
        },
        {
          "output_type": "stream",
          "name": "stdout",
          "text": [
            "Train Loss: 0.288 | Error: 9.929\n"
          ]
        },
        {
          "output_type": "stream",
          "name": "stderr",
          "text": [
            "100%|██████████| 4/4 [00:00<00:00, 41.03it/s]\n"
          ]
        },
        {
          "output_type": "stream",
          "name": "stdout",
          "text": [
            "Val Loss: 0.424 | Error: 12.308\n",
            "\n",
            "Epoch : 4\n"
          ]
        },
        {
          "output_type": "stream",
          "name": "stderr",
          "text": [
            "100%|██████████| 13/13 [00:49<00:00,  3.83s/it]\n"
          ]
        },
        {
          "output_type": "stream",
          "name": "stdout",
          "text": [
            "Train Loss: 0.183 | Error: 5.287\n"
          ]
        },
        {
          "output_type": "stream",
          "name": "stderr",
          "text": [
            "100%|██████████| 4/4 [00:00<00:00, 35.39it/s]\n"
          ]
        },
        {
          "output_type": "stream",
          "name": "stdout",
          "text": [
            "Val Loss: 0.339 | Error: 12.564\n",
            "\n",
            "Epoch : 5\n"
          ]
        },
        {
          "output_type": "stream",
          "name": "stderr",
          "text": [
            "100%|██████████| 13/13 [00:49<00:00,  3.82s/it]\n"
          ]
        },
        {
          "output_type": "stream",
          "name": "stdout",
          "text": [
            "Train Loss: 0.135 | Error: 3.353\n"
          ]
        },
        {
          "output_type": "stream",
          "name": "stderr",
          "text": [
            "100%|██████████| 4/4 [00:00<00:00, 38.91it/s]\n"
          ]
        },
        {
          "output_type": "stream",
          "name": "stdout",
          "text": [
            "Val Loss: 0.352 | Error: 15.641\n",
            "\n",
            "Epoch : 6\n"
          ]
        },
        {
          "output_type": "stream",
          "name": "stderr",
          "text": [
            "100%|██████████| 13/13 [00:49<00:00,  3.83s/it]\n"
          ]
        },
        {
          "output_type": "stream",
          "name": "stdout",
          "text": [
            "Train Loss: 0.103 | Error: 2.772\n"
          ]
        },
        {
          "output_type": "stream",
          "name": "stderr",
          "text": [
            "100%|██████████| 4/4 [00:00<00:00, 39.01it/s]\n"
          ]
        },
        {
          "output_type": "stream",
          "name": "stdout",
          "text": [
            "Val Loss: 0.336 | Error: 11.026\n",
            "\n",
            "Epoch : 7\n"
          ]
        },
        {
          "output_type": "stream",
          "name": "stderr",
          "text": [
            "100%|██████████| 13/13 [00:49<00:00,  3.83s/it]\n"
          ]
        },
        {
          "output_type": "stream",
          "name": "stdout",
          "text": [
            "Train Loss: 0.072 | Error: 1.225\n"
          ]
        },
        {
          "output_type": "stream",
          "name": "stderr",
          "text": [
            "100%|██████████| 4/4 [00:00<00:00, 42.45it/s]\n"
          ]
        },
        {
          "output_type": "stream",
          "name": "stdout",
          "text": [
            "Val Loss: 0.250 | Error: 10.256\n",
            "\n",
            "Epoch : 8\n"
          ]
        },
        {
          "output_type": "stream",
          "name": "stderr",
          "text": [
            "100%|██████████| 13/13 [00:49<00:00,  3.82s/it]\n"
          ]
        },
        {
          "output_type": "stream",
          "name": "stdout",
          "text": [
            "Train Loss: 0.043 | Error: 0.774\n"
          ]
        },
        {
          "output_type": "stream",
          "name": "stderr",
          "text": [
            "100%|██████████| 4/4 [00:00<00:00, 40.97it/s]\n"
          ]
        },
        {
          "output_type": "stream",
          "name": "stdout",
          "text": [
            "Val Loss: 0.418 | Error: 9.744\n",
            "\n",
            "Epoch : 9\n"
          ]
        },
        {
          "output_type": "stream",
          "name": "stderr",
          "text": [
            "100%|██████████| 13/13 [00:49<00:00,  3.83s/it]\n"
          ]
        },
        {
          "output_type": "stream",
          "name": "stdout",
          "text": [
            "Train Loss: 0.027 | Error: 0.258\n"
          ]
        },
        {
          "output_type": "stream",
          "name": "stderr",
          "text": [
            "100%|██████████| 4/4 [00:00<00:00, 40.45it/s]\n"
          ]
        },
        {
          "output_type": "stream",
          "name": "stdout",
          "text": [
            "Val Loss: 0.252 | Error: 10.000\n",
            "\n",
            "Epoch : 10\n"
          ]
        },
        {
          "output_type": "stream",
          "name": "stderr",
          "text": [
            "100%|██████████| 13/13 [00:49<00:00,  3.83s/it]\n"
          ]
        },
        {
          "output_type": "stream",
          "name": "stdout",
          "text": [
            "Train Loss: 0.018 | Error: 0.129\n"
          ]
        },
        {
          "output_type": "stream",
          "name": "stderr",
          "text": [
            "100%|██████████| 4/4 [00:00<00:00, 35.01it/s]\n"
          ]
        },
        {
          "output_type": "stream",
          "name": "stdout",
          "text": [
            "Val Loss: 0.231 | Error: 9.487\n",
            "\n",
            "Epoch : 11\n"
          ]
        },
        {
          "output_type": "stream",
          "name": "stderr",
          "text": [
            "100%|██████████| 13/13 [00:49<00:00,  3.83s/it]\n"
          ]
        },
        {
          "output_type": "stream",
          "name": "stdout",
          "text": [
            "Train Loss: 0.011 | Error: 0.000\n"
          ]
        },
        {
          "output_type": "stream",
          "name": "stderr",
          "text": [
            "100%|██████████| 4/4 [00:00<00:00, 41.12it/s]\n"
          ]
        },
        {
          "output_type": "stream",
          "name": "stdout",
          "text": [
            "Val Loss: 0.208 | Error: 9.231\n",
            "\n",
            "Epoch : 12\n"
          ]
        },
        {
          "output_type": "stream",
          "name": "stderr",
          "text": [
            "100%|██████████| 13/13 [00:49<00:00,  3.82s/it]\n"
          ]
        },
        {
          "output_type": "stream",
          "name": "stdout",
          "text": [
            "Train Loss: 0.008 | Error: 0.000\n"
          ]
        },
        {
          "output_type": "stream",
          "name": "stderr",
          "text": [
            "100%|██████████| 4/4 [00:00<00:00, 38.60it/s]\n"
          ]
        },
        {
          "output_type": "stream",
          "name": "stdout",
          "text": [
            "Val Loss: 0.282 | Error: 9.744\n",
            "\n",
            "Epoch : 13\n"
          ]
        },
        {
          "output_type": "stream",
          "name": "stderr",
          "text": [
            "100%|██████████| 13/13 [00:49<00:00,  3.83s/it]\n"
          ]
        },
        {
          "output_type": "stream",
          "name": "stdout",
          "text": [
            "Train Loss: 0.005 | Error: 0.000\n"
          ]
        },
        {
          "output_type": "stream",
          "name": "stderr",
          "text": [
            "100%|██████████| 4/4 [00:00<00:00, 43.00it/s]\n"
          ]
        },
        {
          "output_type": "stream",
          "name": "stdout",
          "text": [
            "Val Loss: 0.265 | Error: 10.256\n",
            "\n",
            "Epoch : 14\n"
          ]
        },
        {
          "output_type": "stream",
          "name": "stderr",
          "text": [
            "100%|██████████| 13/13 [00:50<00:00,  3.85s/it]\n"
          ]
        },
        {
          "output_type": "stream",
          "name": "stdout",
          "text": [
            "Train Loss: 0.004 | Error: 0.000\n"
          ]
        },
        {
          "output_type": "stream",
          "name": "stderr",
          "text": [
            "100%|██████████| 4/4 [00:00<00:00, 42.57it/s]\n"
          ]
        },
        {
          "output_type": "stream",
          "name": "stdout",
          "text": [
            "Val Loss: 0.251 | Error: 9.231\n",
            "\n",
            "Epoch : 15\n"
          ]
        },
        {
          "output_type": "stream",
          "name": "stderr",
          "text": [
            "100%|██████████| 13/13 [00:49<00:00,  3.83s/it]\n"
          ]
        },
        {
          "output_type": "stream",
          "name": "stdout",
          "text": [
            "Train Loss: 0.003 | Error: 0.000\n"
          ]
        },
        {
          "output_type": "stream",
          "name": "stderr",
          "text": [
            "100%|██████████| 4/4 [00:00<00:00, 41.11it/s]\n"
          ]
        },
        {
          "output_type": "stream",
          "name": "stdout",
          "text": [
            "Val Loss: 0.232 | Error: 10.000\n",
            "\n",
            "Epoch : 16\n"
          ]
        },
        {
          "output_type": "stream",
          "name": "stderr",
          "text": [
            "100%|██████████| 13/13 [00:49<00:00,  3.82s/it]\n"
          ]
        },
        {
          "output_type": "stream",
          "name": "stdout",
          "text": [
            "Train Loss: 0.003 | Error: 0.000\n"
          ]
        },
        {
          "output_type": "stream",
          "name": "stderr",
          "text": [
            "100%|██████████| 4/4 [00:00<00:00, 41.63it/s]\n"
          ]
        },
        {
          "output_type": "stream",
          "name": "stdout",
          "text": [
            "Val Loss: 0.233 | Error: 9.487\n",
            "\n",
            "Epoch : 17\n"
          ]
        },
        {
          "output_type": "stream",
          "name": "stderr",
          "text": [
            "100%|██████████| 13/13 [00:49<00:00,  3.84s/it]\n"
          ]
        },
        {
          "output_type": "stream",
          "name": "stdout",
          "text": [
            "Train Loss: 0.003 | Error: 0.000\n"
          ]
        },
        {
          "output_type": "stream",
          "name": "stderr",
          "text": [
            "100%|██████████| 4/4 [00:00<00:00, 38.04it/s]\n"
          ]
        },
        {
          "output_type": "stream",
          "name": "stdout",
          "text": [
            "Val Loss: 0.345 | Error: 10.000\n",
            "\n",
            "Epoch : 18\n"
          ]
        },
        {
          "output_type": "stream",
          "name": "stderr",
          "text": [
            "100%|██████████| 13/13 [00:49<00:00,  3.83s/it]\n"
          ]
        },
        {
          "output_type": "stream",
          "name": "stdout",
          "text": [
            "Train Loss: 0.002 | Error: 0.000\n"
          ]
        },
        {
          "output_type": "stream",
          "name": "stderr",
          "text": [
            "100%|██████████| 4/4 [00:00<00:00, 41.10it/s]\n"
          ]
        },
        {
          "output_type": "stream",
          "name": "stdout",
          "text": [
            "Val Loss: 0.248 | Error: 10.000\n",
            "\n",
            "Epoch : 19\n"
          ]
        },
        {
          "output_type": "stream",
          "name": "stderr",
          "text": [
            "100%|██████████| 13/13 [00:49<00:00,  3.84s/it]\n"
          ]
        },
        {
          "output_type": "stream",
          "name": "stdout",
          "text": [
            "Train Loss: 0.002 | Error: 0.000\n"
          ]
        },
        {
          "output_type": "stream",
          "name": "stderr",
          "text": [
            "100%|██████████| 4/4 [00:00<00:00, 40.00it/s]\n"
          ]
        },
        {
          "output_type": "stream",
          "name": "stdout",
          "text": [
            "Val Loss: 0.307 | Error: 10.000\n",
            "\n",
            "Epoch : 20\n"
          ]
        },
        {
          "output_type": "stream",
          "name": "stderr",
          "text": [
            "100%|██████████| 13/13 [00:49<00:00,  3.83s/it]\n"
          ]
        },
        {
          "output_type": "stream",
          "name": "stdout",
          "text": [
            "Train Loss: 0.002 | Error: 0.000\n"
          ]
        },
        {
          "output_type": "stream",
          "name": "stderr",
          "text": [
            "100%|██████████| 4/4 [00:00<00:00, 38.53it/s]\n"
          ]
        },
        {
          "output_type": "stream",
          "name": "stdout",
          "text": [
            "Val Loss: 0.236 | Error: 9.487\n"
          ]
        },
        {
          "output_type": "display_data",
          "data": {
            "image/png": "[encoded data removed]",
            "text/plain": [
              "<Figure size 432x288 with 1 Axes>"
            ]
          },
          "metadata": {
            "needs_background": "light"
          }
        },
        {
          "output_type": "display_data",
          "data": {
            "image/png": "[encoded data removed]",
            "text/plain": [
              "<Figure size 432x288 with 1 Axes>"
            ]
          },
          "metadata": {
            "needs_background": "light"
          }
        },
        {
          "output_type": "stream",
          "name": "stdout",
          "text": [
            "Lowest Validation Error: 9.23076923076923, at Epoch 11\n",
            "Lowest Validation Loss: 0.208354405593127, at Epoch 11\n"
          ]
        }
      ]
    },
    {
      "cell_type": "markdown",
      "source": [
        "Reporting test accuracy on the test set:"
      ],
      "metadata": {
        "id": "Nf9Y3e73LFDV"
      }
    },
    {
      "cell_type": "code",
      "execution_count": null,
      "metadata": {
        "id": "yCp_kFSg8Q2T",
        "colab": {
          "base_uri": "https://localhost:8080/"
        },
        "outputId": "7f99341a-cdd6-4f19-abc9-eb78dfdc6803"
      },
      "outputs": [
        {
          "output_type": "stream",
          "name": "stderr",
          "text": [
            "100%|██████████| 4/4 [00:00<00:00, 32.85it/s]"
          ]
        },
        {
          "output_type": "stream",
          "name": "stdout",
          "text": [
            "Test Error: 7.143\n",
            "Test Accuracy:  92.85714285714286\n"
          ]
        },
        {
          "output_type": "stream",
          "name": "stderr",
          "text": [
            "\n"
          ]
        }
      ],
      "source": [
        "model = model #use last model, which had the best error at the last epoch\n",
        "\n",
        "criterion = nn.CrossEntropyLoss()\n",
        "\n",
        "eval_total = 0\n",
        "eval_incorrect = 0\n",
        "\n",
        "eval_accu_list = []\n",
        "\n",
        "testloader = torch.utils.data.DataLoader(dataset=test_featlabels, shuffle = True, batch_size=128)\n",
        "\n",
        "for data in tqdm(testloader):\n",
        "    inputs,labels=data\n",
        "\n",
        "    #############################################\n",
        "    #To Enable GPU Usage\n",
        "    if use_cuda and torch.cuda.is_available():\n",
        "      inputs = inputs.cuda()\n",
        "      labels = labels.cuda()\n",
        "    #############################################\n",
        "\n",
        "    outputs=model(inputs)\n",
        "\n",
        "    loss= criterion(outputs,labels)\n",
        "\n",
        "    _, predicted = outputs.max(1)\n",
        "    eval_total += labels.size(0)\n",
        "    eval_incorrect += predicted.ne(labels).sum().item()\n",
        "\n",
        "eval_accu=100.*eval_incorrect/eval_total\n",
        "\n",
        "eval_accu_list.append(eval_accu)\n",
        "\n",
        "print('Test Error: %.3f'%(eval_accu))\n",
        "\n",
        "print('Test Accuracy: ', 100-eval_accu)"
      ]
    },
    {
      "cell_type": "markdown",
      "source": [
        "Before transfer learning, the test accuracy was 0.75102. This is a 23% increase!"
      ],
      "metadata": {
        "id": "TwEQ14NDm9IA"
      }
    },
    {
      "cell_type": "markdown",
      "metadata": {
        "id": "XrDPb0orGZYJ"
      },
      "source": [
        "### Part 3. Testing on my own images\n",
        "\n",
        "In this section, I take my own American Sign Language hand gesture photos and test them on my model. This set contains 27 images (3 photos of alphabets A to I)\n"
      ]
    },
    {
      "cell_type": "code",
      "execution_count": null,
      "metadata": {
        "id": "Gcg8TAlIzhED"
      },
      "outputs": [],
      "source": [
        "# define transform \n",
        "transform = transforms.Compose([\n",
        "    transforms.ToTensor(),\n",
        "    transforms.Resize([224, 224]), #ensure all photos will be 224x224\n",
        "    transforms.CenterCrop(224), #assume photos have hand centered\n",
        "    transforms.Normalize([0.5, 0.5, 0.5], [0.5, 0.5, 0.5])]) #normalize with mean and std values of 0.5\n",
        "\n",
        "my_dataset = torchvision.datasets.ImageFolder('/content/gdrive/MyDrive/My_Hand_Gestures',\n",
        "                                           transform=transform)"
      ]
    },
    {
      "cell_type": "code",
      "source": [
        "test_loader = torch.utils.data.DataLoader(my_dataset, batch_size=128)\n",
        "\n",
        "test_features = torch.FloatTensor([])\n",
        "test_labels = torch.FloatTensor([])\n",
        "for images, labels in iter(test_loader):\n",
        "  test_features = torch.cat((test_features, alexNet.features(images)), 0)\n",
        "  test_labels = torch.cat((test_labels, labels), 0)\n",
        "\n",
        "test_featlabels = []\n",
        "for i in range(len(test_features)):\n",
        "  test_featlabels.append([test_features[i], test_labels[i].type(torch.LongTensor)])"
      ],
      "metadata": {
        "id": "5eloxNXCnvao"
      },
      "execution_count": null,
      "outputs": []
    },
    {
      "cell_type": "code",
      "execution_count": null,
      "metadata": {
        "id": "R1CaOXPHzhEE",
        "colab": {
          "base_uri": "https://localhost:8080/"
        },
        "outputId": "4f4acf8d-9854-4b06-ab75-7002158955cc"
      },
      "outputs": [
        {
          "output_type": "stream",
          "name": "stderr",
          "text": [
            "100%|██████████| 1/1 [00:00<00:00, 101.78it/s]"
          ]
        },
        {
          "output_type": "stream",
          "name": "stdout",
          "text": [
            "Test Error: 0.000\n",
            "Test Accuracy:  100.0\n"
          ]
        },
        {
          "output_type": "stream",
          "name": "stderr",
          "text": [
            "\n"
          ]
        }
      ],
      "source": [
        "criterion = nn.CrossEntropyLoss()\n",
        "\n",
        "eval_total = 0\n",
        "eval_incorrect = 0\n",
        "\n",
        "eval_accu_list = []\n",
        "\n",
        "testloader = torch.utils.data.DataLoader(dataset=test_featlabels, shuffle = True, batch_size=128)\n",
        "\n",
        "for data in tqdm(testloader):\n",
        "    inputs,labels=data\n",
        "\n",
        "    #############################################\n",
        "    #To Enable GPU Usage\n",
        "    if use_cuda and torch.cuda.is_available():\n",
        "      inputs = inputs.cuda()\n",
        "      labels = labels.cuda()\n",
        "    #############################################\n",
        "\n",
        "    outputs=model(inputs)\n",
        "\n",
        "    loss= criterion(outputs,labels)\n",
        "\n",
        "    _, predicted = outputs.max(1)\n",
        "    eval_total += labels.size(0)\n",
        "    eval_incorrect += predicted.ne(labels).sum().item()\n",
        "\n",
        "eval_accu=100.*eval_incorrect/eval_total\n",
        "\n",
        "eval_accu_list.append(eval_accu)\n",
        "\n",
        "print('Test Error: %.3f'%(eval_accu))\n",
        "\n",
        "print('Test Accuracy: ', 100-eval_accu)"
      ]
    },
    {
      "cell_type": "markdown",
      "source": [
        "We see that my model is able to accuracy predict all my 27 hand gestures!"
      ],
      "metadata": {
        "id": "kmfCaTWtLefx"
      }
    }
  ],
  "metadata": {
    "accelerator": "GPU",
    "colab": {
      "collapsed_sections": [],
      "name": "Copy of Lab 2 Hand Gestures",
      "provenance": [],
      "include_colab_link": true
    },
    "kernelspec": {
      "display_name": "Python 3",
      "language": "python",
      "name": "python3"
    },
    "language_info": {
      "codemirror_mode": {
        "name": "ipython",
        "version": 3
      },
      "file_extension": ".py",
      "mimetype": "text/x-python",
      "name": "python",
      "nbconvert_exporter": "python",
      "pygments_lexer": "ipython3",
      "version": "3.7.4"
    },
    "widgets": {
      "application/vnd.jupyter.widget-state+json": {
        "2290e8729a5141a184e8e7c30a91c280": {
          "model_module": "@jupyter-widgets/controls",
          "model_name": "HBoxModel",
          "model_module_version": "1.5.0",
          "state": {
            "_view_name": "HBoxView",
            "_dom_classes": [],
            "_model_name": "HBoxModel",
            "_view_module": "@jupyter-widgets/controls",
            "_model_module_version": "1.5.0",
            "_view_count": null,
            "_view_module_version": "1.5.0",
            "box_style": "",
            "layout": "IPY_MODEL_44e527139f2e45728ca2325efc8a9a98",
            "_model_module": "@jupyter-widgets/controls",
            "children": [
              "IPY_MODEL_692ca0c693f74afc8a499c40e4114649",
              "IPY_MODEL_3570bedf043f4c71a842090d0732cc80",
              "IPY_MODEL_72fe7a73f5cf4ea39ab235e38fcc54b2"
            ]
          }
        },
        "44e527139f2e45728ca2325efc8a9a98": {
          "model_module": "@jupyter-widgets/base",
          "model_name": "LayoutModel",
          "model_module_version": "1.2.0",
          "state": {
            "_view_name": "LayoutView",
            "grid_template_rows": null,
            "right": null,
            "justify_content": null,
            "_view_module": "@jupyter-widgets/base",
            "overflow": null,
            "_model_module_version": "1.2.0",
            "_view_count": null,
            "flex_flow": null,
            "width": null,
            "min_width": null,
            "border": null,
            "align_items": null,
            "bottom": null,
            "_model_module": "@jupyter-widgets/base",
            "top": null,
            "grid_column": null,
            "overflow_y": null,
            "overflow_x": null,
            "grid_auto_flow": null,
            "grid_area": null,
            "grid_template_columns": null,
            "flex": null,
            "_model_name": "LayoutModel",
            "justify_items": null,
            "grid_row": null,
            "max_height": null,
            "align_content": null,
            "visibility": null,
            "align_self": null,
            "height": null,
            "min_height": null,
            "padding": null,
            "grid_auto_rows": null,
            "grid_gap": null,
            "max_width": null,
            "order": null,
            "_view_module_version": "1.2.0",
            "grid_template_areas": null,
            "object_position": null,
            "object_fit": null,
            "grid_auto_columns": null,
            "margin": null,
            "display": null,
            "left": null
          }
        },
        "692ca0c693f74afc8a499c40e4114649": {
          "model_module": "@jupyter-widgets/controls",
          "model_name": "HTMLModel",
          "model_module_version": "1.5.0",
          "state": {
            "_view_name": "HTMLView",
            "style": "IPY_MODEL_4bf45ff8f1434566be94ee949c52dbba",
            "_dom_classes": [],
            "description": "",
            "_model_name": "HTMLModel",
            "placeholder": "​",
            "_view_module": "@jupyter-widgets/controls",
            "_model_module_version": "1.5.0",
            "value": "100%",
            "_view_count": null,
            "_view_module_version": "1.5.0",
            "description_tooltip": null,
            "_model_module": "@jupyter-widgets/controls",
            "layout": "IPY_MODEL_8cb2261263004324a823caa173f19bb8"
          }
        },
        "3570bedf043f4c71a842090d0732cc80": {
          "model_module": "@jupyter-widgets/controls",
          "model_name": "FloatProgressModel",
          "model_module_version": "1.5.0",
          "state": {
            "_view_name": "ProgressView",
            "style": "IPY_MODEL_4dbc42927693462492d3407e0aae16c9",
            "_dom_classes": [],
            "description": "",
            "_model_name": "FloatProgressModel",
            "bar_style": "success",
            "max": 244408911,
            "_view_module": "@jupyter-widgets/controls",
            "_model_module_version": "1.5.0",
            "value": 244408911,
            "_view_count": null,
            "_view_module_version": "1.5.0",
            "orientation": "horizontal",
            "min": 0,
            "description_tooltip": null,
            "_model_module": "@jupyter-widgets/controls",
            "layout": "IPY_MODEL_98775ed835b94838a21cae7b93aaca18"
          }
        },
        "72fe7a73f5cf4ea39ab235e38fcc54b2": {
          "model_module": "@jupyter-widgets/controls",
          "model_name": "HTMLModel",
          "model_module_version": "1.5.0",
          "state": {
            "_view_name": "HTMLView",
            "style": "IPY_MODEL_942493dd633d4c71a28d4abee492bc6d",
            "_dom_classes": [],
            "description": "",
            "_model_name": "HTMLModel",
            "placeholder": "​",
            "_view_module": "@jupyter-widgets/controls",
            "_model_module_version": "1.5.0",
            "value": " 233M/233M [00:04&lt;00:00, 52.3MB/s]",
            "_view_count": null,
            "_view_module_version": "1.5.0",
            "description_tooltip": null,
            "_model_module": "@jupyter-widgets/controls",
            "layout": "IPY_MODEL_30317d315ede4174ac918ddbd6327032"
          }
        },
        "4bf45ff8f1434566be94ee949c52dbba": {
          "model_module": "@jupyter-widgets/controls",
          "model_name": "DescriptionStyleModel",
          "model_module_version": "1.5.0",
          "state": {
            "_view_name": "StyleView",
            "_model_name": "DescriptionStyleModel",
            "description_width": "",
            "_view_module": "@jupyter-widgets/base",
            "_model_module_version": "1.5.0",
            "_view_count": null,
            "_view_module_version": "1.2.0",
            "_model_module": "@jupyter-widgets/controls"
          }
        },
        "8cb2261263004324a823caa173f19bb8": {
          "model_module": "@jupyter-widgets/base",
          "model_name": "LayoutModel",
          "model_module_version": "1.2.0",
          "state": {
            "_view_name": "LayoutView",
            "grid_template_rows": null,
            "right": null,
            "justify_content": null,
            "_view_module": "@jupyter-widgets/base",
            "overflow": null,
            "_model_module_version": "1.2.0",
            "_view_count": null,
            "flex_flow": null,
            "width": null,
            "min_width": null,
            "border": null,
            "align_items": null,
            "bottom": null,
            "_model_module": "@jupyter-widgets/base",
            "top": null,
            "grid_column": null,
            "overflow_y": null,
            "overflow_x": null,
            "grid_auto_flow": null,
            "grid_area": null,
            "grid_template_columns": null,
            "flex": null,
            "_model_name": "LayoutModel",
            "justify_items": null,
            "grid_row": null,
            "max_height": null,
            "align_content": null,
            "visibility": null,
            "align_self": null,
            "height": null,
            "min_height": null,
            "padding": null,
            "grid_auto_rows": null,
            "grid_gap": null,
            "max_width": null,
            "order": null,
            "_view_module_version": "1.2.0",
            "grid_template_areas": null,
            "object_position": null,
            "object_fit": null,
            "grid_auto_columns": null,
            "margin": null,
            "display": null,
            "left": null
          }
        },
        "4dbc42927693462492d3407e0aae16c9": {
          "model_module": "@jupyter-widgets/controls",
          "model_name": "ProgressStyleModel",
          "model_module_version": "1.5.0",
          "state": {
            "_view_name": "StyleView",
            "_model_name": "ProgressStyleModel",
            "description_width": "",
            "_view_module": "@jupyter-widgets/base",
            "_model_module_version": "1.5.0",
            "_view_count": null,
            "_view_module_version": "1.2.0",
            "bar_color": null,
            "_model_module": "@jupyter-widgets/controls"
          }
        },
        "98775ed835b94838a21cae7b93aaca18": {
          "model_module": "@jupyter-widgets/base",
          "model_name": "LayoutModel",
          "model_module_version": "1.2.0",
          "state": {
            "_view_name": "LayoutView",
            "grid_template_rows": null,
            "right": null,
            "justify_content": null,
            "_view_module": "@jupyter-widgets/base",
            "overflow": null,
            "_model_module_version": "1.2.0",
            "_view_count": null,
            "flex_flow": null,
            "width": null,
            "min_width": null,
            "border": null,
            "align_items": null,
            "bottom": null,
            "_model_module": "@jupyter-widgets/base",
            "top": null,
            "grid_column": null,
            "overflow_y": null,
            "overflow_x": null,
            "grid_auto_flow": null,
            "grid_area": null,
            "grid_template_columns": null,
            "flex": null,
            "_model_name": "LayoutModel",
            "justify_items": null,
            "grid_row": null,
            "max_height": null,
            "align_content": null,
            "visibility": null,
            "align_self": null,
            "height": null,
            "min_height": null,
            "padding": null,
            "grid_auto_rows": null,
            "grid_gap": null,
            "max_width": null,
            "order": null,
            "_view_module_version": "1.2.0",
            "grid_template_areas": null,
            "object_position": null,
            "object_fit": null,
            "grid_auto_columns": null,
            "margin": null,
            "display": null,
            "left": null
          }
        },
        "942493dd633d4c71a28d4abee492bc6d": {
          "model_module": "@jupyter-widgets/controls",
          "model_name": "DescriptionStyleModel",
          "model_module_version": "1.5.0",
          "state": {
            "_view_name": "StyleView",
            "_model_name": "DescriptionStyleModel",
            "description_width": "",
            "_view_module": "@jupyter-widgets/base",
            "_model_module_version": "1.5.0",
            "_view_count": null,
            "_view_module_version": "1.2.0",
            "_model_module": "@jupyter-widgets/controls"
          }
        },
        "30317d315ede4174ac918ddbd6327032": {
          "model_module": "@jupyter-widgets/base",
          "model_name": "LayoutModel",
          "model_module_version": "1.2.0",
          "state": {
            "_view_name": "LayoutView",
            "grid_template_rows": null,
            "right": null,
            "justify_content": null,
            "_view_module": "@jupyter-widgets/base",
            "overflow": null,
            "_model_module_version": "1.2.0",
            "_view_count": null,
            "flex_flow": null,
            "width": null,
            "min_width": null,
            "border": null,
            "align_items": null,
            "bottom": null,
            "_model_module": "@jupyter-widgets/base",
            "top": null,
            "grid_column": null,
            "overflow_y": null,
            "overflow_x": null,
            "grid_auto_flow": null,
            "grid_area": null,
            "grid_template_columns": null,
            "flex": null,
            "_model_name": "LayoutModel",
            "justify_items": null,
            "grid_row": null,
            "max_height": null,
            "align_content": null,
            "visibility": null,
            "align_self": null,
            "height": null,
            "min_height": null,
            "padding": null,
            "grid_auto_rows": null,
            "grid_gap": null,
            "max_width": null,
            "order": null,
            "_view_module_version": "1.2.0",
            "grid_template_areas": null,
            "object_position": null,
            "object_fit": null,
            "grid_auto_columns": null,
            "margin": null,
            "display": null,
            "left": null
          }
        }
      }
    }
  },
  "nbformat": 4,
  "nbformat_minor": 0
}